{
 "metadata": {
  "language_info": {
   "codemirror_mode": {
    "name": "ipython",
    "version": 3
   },
   "file_extension": ".py",
   "mimetype": "text/x-python",
   "name": "python",
   "nbconvert_exporter": "python",
   "pygments_lexer": "ipython3",
   "version": "3.8.5-final"
  },
  "orig_nbformat": 2,
  "kernelspec": {
   "name": "python3",
   "display_name": "Python 3",
   "language": "python"
  }
 },
 "nbformat": 4,
 "nbformat_minor": 2,
 "cells": [
  {
   "cell_type": "code",
   "execution_count": 26,
   "metadata": {},
   "outputs": [],
   "source": [
    "import cv2\n",
    "import numpy as np\n",
    "\n",
    "fold_path = './data/msnn4_fold4'\n",
    "model = 'mcnn4'\n",
    "out_img_ori = \"ucf-cc-50-gt.png\"\n",
    "out_img_model = \"ucf-cc-50-et-msnn4.png\"\n",
    "image = \"./data/utils/ucf-cc-50/26.jpg\"\n",
    "den_map = \"./data/utils/ucf-cc-50/26.npy\"\n",
    "alpha = 0.35\n",
    "den_scale_factor = 1e3"
   ]
  },
  {
   "cell_type": "code",
   "execution_count": 27,
   "metadata": {},
   "outputs": [
    {
     "output_type": "stream",
     "name": "stdout",
     "text": [
      "(712, 1024, 3) (712, 1024) (1, 1, 712, 1024)\n"
     ]
    },
    {
     "output_type": "execute_result",
     "data": {
      "text/plain": [
       "True"
      ]
     },
     "metadata": {},
     "execution_count": 27
    }
   ],
   "source": [
    "from architecture.crowd_count import CrowdCounter\n",
    "import architecture.network as network\n",
    "\n",
    "import os.path as osp\n",
    "\n",
    "# gt\n",
    "img = cv2.imread(image, cv2.IMREAD_COLOR)\n",
    "den = np.load(den_map)\n",
    "\n",
    "den = (den/np.max(den) * 255).astype(\"uint8\")\n",
    "heatmap = cv2.applyColorMap(den, cv2.COLORMAP_JET)\n",
    "super_img = (1-alpha) * img + alpha * heatmap\n",
    "\n",
    "cv2.imwrite(out_img_ori, super_img)\n",
    "\n",
    "#model\n",
    "imgt = cv2.imread(image, 0)\n",
    "net = CrowdCounter(model = model).cuda().eval()\n",
    "pretrained_model = osp.join(fold_path, 'best_model.h5')\n",
    "network.load_net(pretrained_model, net)\n",
    "\n",
    "imgt = imgt.astype(np.float32, copy=False)\n",
    "imgt = imgt.reshape((1,imgt.shape[0],imgt.shape[1]))\n",
    "imgt = imgt / 127.5 - 1 \n",
    "imgt = np.array([imgt])\n",
    "#imgt = network.np_to_variable(imgt, is_cuda=True, is_training=False)\n",
    "den = net(imgt)\n",
    "\n",
    "den = den.data.cpu().numpy()\n",
    "den /= den_scale_factor\n",
    "den = den.reshape((den.shape[2], den.shape[3]))\n",
    "\n",
    "ht = den.shape[0]\n",
    "wd = den.shape[1]\n",
    "wd_1 = img.shape[1]\n",
    "ht_1 = img.shape[0]\n",
    "den = cv2.resize(den,(wd_1,ht_1))\n",
    "den = den * ((wd*ht)/(wd_1*ht_1)) #fix people count\n",
    "\n",
    "print(img.shape, den.shape, imgt.shape)\n",
    "\n",
    "den = (den/np.max(den) * 255).astype(\"uint8\")\n",
    "heatmap = cv2.applyColorMap(den, cv2.COLORMAP_JET)\n",
    "super_img = (1-alpha) * img + alpha * heatmap\n",
    "\n",
    "cv2.imwrite(out_img_model, super_img)\n",
    "\n",
    "\n",
    "\n"
   ]
  },
  {
   "cell_type": "code",
   "execution_count": null,
   "metadata": {},
   "outputs": [],
   "source": []
  }
 ]
}