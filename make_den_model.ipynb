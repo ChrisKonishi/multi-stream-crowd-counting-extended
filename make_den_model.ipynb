{
 "metadata": {
  "language_info": {
   "codemirror_mode": {
    "name": "ipython",
    "version": 3
   },
   "file_extension": ".py",
   "mimetype": "text/x-python",
   "name": "python",
   "nbconvert_exporter": "python",
   "pygments_lexer": "ipython3",
   "version": "3.8.5-final"
  },
  "orig_nbformat": 2,
  "kernelspec": {
   "name": "python3",
   "display_name": "Python 3",
   "language": "python"
  }
 },
 "nbformat": 4,
 "nbformat_minor": 2,
 "cells": [
  {
   "cell_type": "code",
   "execution_count": 22,
   "metadata": {},
   "outputs": [],
   "source": [
    "import cv2\n",
    "import numpy as np\n",
    "\n",
    "fold_path = './data/msnn4_fold5'\n",
    "model = 'mcnn4'\n",
    "out_img_ori = \"ucf-cc-50-gt.png\"\n",
    "out_img_model = \"ucf-cc-50-et.png\"\n",
    "image = \"./data/utils/ucf-cc-50/26.jpg\"\n",
    "den_map = \"./data/utils/ucf-cc-50/26.npy\"\n",
    "alpha = 0.35\n",
    "den_scale_factor = 1e3"
   ]
  },
  {
   "cell_type": "code",
   "execution_count": 24,
   "metadata": {},
   "outputs": [
    {
     "output_type": "stream",
     "name": "stdout",
     "text": [
      "(712, 1024, 3) (1024, 712) (1, 1, 712, 1024)\n"
     ]
    },
    {
     "output_type": "error",
     "ename": "ValueError",
     "evalue": "operands could not be broadcast together with shapes (712,1024,3) (1024,712,3) ",
     "traceback": [
      "\u001b[1;31m---------------------------------------------------------------------------\u001b[0m",
      "\u001b[1;31mValueError\u001b[0m                                Traceback (most recent call last)",
      "\u001b[1;32m<ipython-input-24-abe9b32bce6c>\u001b[0m in \u001b[0;36m<module>\u001b[1;34m\u001b[0m\n\u001b[0;32m     42\u001b[0m \u001b[0mden\u001b[0m \u001b[1;33m=\u001b[0m \u001b[1;33m(\u001b[0m\u001b[0mden\u001b[0m\u001b[1;33m/\u001b[0m\u001b[0mnp\u001b[0m\u001b[1;33m.\u001b[0m\u001b[0mmax\u001b[0m\u001b[1;33m(\u001b[0m\u001b[0mden\u001b[0m\u001b[1;33m)\u001b[0m \u001b[1;33m*\u001b[0m \u001b[1;36m255\u001b[0m\u001b[1;33m)\u001b[0m\u001b[1;33m.\u001b[0m\u001b[0mastype\u001b[0m\u001b[1;33m(\u001b[0m\u001b[1;34m\"uint8\"\u001b[0m\u001b[1;33m)\u001b[0m\u001b[1;33m\u001b[0m\u001b[1;33m\u001b[0m\u001b[0m\n\u001b[0;32m     43\u001b[0m \u001b[0mheatmap\u001b[0m \u001b[1;33m=\u001b[0m \u001b[0mcv2\u001b[0m\u001b[1;33m.\u001b[0m\u001b[0mapplyColorMap\u001b[0m\u001b[1;33m(\u001b[0m\u001b[0mden\u001b[0m\u001b[1;33m,\u001b[0m \u001b[0mcv2\u001b[0m\u001b[1;33m.\u001b[0m\u001b[0mCOLORMAP_JET\u001b[0m\u001b[1;33m)\u001b[0m\u001b[1;33m\u001b[0m\u001b[1;33m\u001b[0m\u001b[0m\n\u001b[1;32m---> 44\u001b[1;33m \u001b[0msuper_img\u001b[0m \u001b[1;33m=\u001b[0m \u001b[1;33m(\u001b[0m\u001b[1;36m1\u001b[0m\u001b[1;33m-\u001b[0m\u001b[0malpha\u001b[0m\u001b[1;33m)\u001b[0m \u001b[1;33m*\u001b[0m \u001b[0mimg\u001b[0m \u001b[1;33m+\u001b[0m \u001b[0malpha\u001b[0m \u001b[1;33m*\u001b[0m \u001b[0mheatmap\u001b[0m\u001b[1;33m\u001b[0m\u001b[1;33m\u001b[0m\u001b[0m\n\u001b[0m\u001b[0;32m     45\u001b[0m \u001b[1;33m\u001b[0m\u001b[0m\n\u001b[0;32m     46\u001b[0m \u001b[0mcv2\u001b[0m\u001b[1;33m.\u001b[0m\u001b[0mimwrite\u001b[0m\u001b[1;33m(\u001b[0m\u001b[0mout_img_model\u001b[0m\u001b[1;33m,\u001b[0m \u001b[0msuper_img\u001b[0m\u001b[1;33m)\u001b[0m\u001b[1;33m\u001b[0m\u001b[1;33m\u001b[0m\u001b[0m\n",
      "\u001b[1;31mValueError\u001b[0m: operands could not be broadcast together with shapes (712,1024,3) (1024,712,3) "
     ]
    }
   ],
   "source": [
    "from architecture.crowd_count import CrowdCounter\n",
    "import architecture.network as network\n",
    "\n",
    "import os.path as osp\n",
    "\n",
    "# gt\n",
    "img = cv2.imread(image, cv2.IMREAD_COLOR)\n",
    "den = np.load(den_map)\n",
    "\n",
    "den = (den/np.max(den) * 255).astype(\"uint8\")\n",
    "heatmap = cv2.applyColorMap(den, cv2.COLORMAP_JET)\n",
    "super_img = (1-alpha) * img + alpha * heatmap\n",
    "\n",
    "cv2.imwrite(out_img_ori, super_img)\n",
    "\n",
    "#model\n",
    "imgt = cv2.imread(image, 0)\n",
    "net = CrowdCounter(model = model).cuda().eval()\n",
    "pretrained_model = osp.join(fold_path, 'best_model.h5')\n",
    "network.load_net(pretrained_model, net)\n",
    "\n",
    "imgt = imgt.astype(np.float32, copy=False)\n",
    "imgt = imgt.reshape((1,imgt.shape[0],imgt.shape[1]))\n",
    "imgt = imgt / 127.5 - 1 \n",
    "imgt = np.array([imgt])\n",
    "#imgt = network.np_to_variable(imgt, is_cuda=True, is_training=False)\n",
    "den = net(imgt)\n",
    "\n",
    "den = den.data.cpu().numpy()\n",
    "den /= den_scale_factor\n",
    "den = den.reshape((den.shape[2], den.shape[3]))\n",
    "\n",
    "ht = den.shape[0]\n",
    "wd = den.shape[1]\n",
    "wd_1 = img.shape[1]\n",
    "ht_1 = img.shape[0]\n",
    "den = cv2.resize(den,(wd_1,ht_1))\n",
    "den = den * ((wd*ht)/(wd_1*ht_1)) #fix people count\n",
    "\n",
    "print(img.shape, den.shape, imgt.shape)\n",
    "\n",
    "den = (den/np.max(den) * 255).astype(\"uint8\")\n",
    "heatmap = cv2.applyColorMap(den, cv2.COLORMAP_JET)\n",
    "super_img = (1-alpha) * img + alpha * heatmap\n",
    "\n",
    "cv2.imwrite(out_img_model, super_img)\n",
    "\n",
    "\n",
    "\n"
   ]
  },
  {
   "cell_type": "code",
   "execution_count": null,
   "metadata": {},
   "outputs": [],
   "source": []
  }
 ]
}